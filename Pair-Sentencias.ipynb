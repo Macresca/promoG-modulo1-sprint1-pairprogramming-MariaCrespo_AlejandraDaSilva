{
 "cells": [
  {
   "cell_type": "markdown",
   "metadata": {},
   "source": [
    "**1** Verificar si un número es positivo, negativo o cero\n",
    "Descripción: Dado un número, verifica si es positivo, negativo o cero."
   ]
  },
  {
   "cell_type": "code",
   "execution_count": 5,
   "metadata": {},
   "outputs": [
    {
     "name": "stdout",
     "output_type": "stream",
     "text": [
      "4 Eres positivo\n"
     ]
    }
   ],
   "source": [
    "numero = int(input(\"Dime un número\"))\n",
    "if numero > 0: \n",
    "    print (numero, \"Eres positivo\")\n",
    "elif numero == 0:\n",
    "    print (\"Eres Cero\")\n",
    "else:\n",
    "    print (numero, \"Eres negativo\")        \n",
    "\n"
   ]
  },
  {
   "cell_type": "markdown",
   "metadata": {},
   "source": [
    "**2**Verificar si un número es par o impar\n",
    "Descripción: Dado un número, verifica si es par o impar."
   ]
  },
  {
   "cell_type": "code",
   "execution_count": 7,
   "metadata": {},
   "outputs": [
    {
     "name": "stdout",
     "output_type": "stream",
     "text": [
      "23 es impar.\n"
     ]
    }
   ],
   "source": [
    "numero = int(input(\"Dime un número\"))\n",
    "if numero % 2 == 0:\n",
    "    print(numero, \"es par.\")\n",
    "else:\n",
    "    print(numero, \"es impar.\") \n"
   ]
  },
  {
   "cell_type": "markdown",
   "metadata": {},
   "source": [
    "**3**Verificar si un estudiante aprobó o suspendió un examen\n",
    "Descripción: Dada la calificación de un estudiante en un examen, verifica si aprobó o suspendió (si la calificación es mayor o igual a 60 se considera aprobado)."
   ]
  },
  {
   "cell_type": "code",
   "execution_count": 12,
   "metadata": {},
   "outputs": [
    {
     "name": "stdout",
     "output_type": "stream",
     "text": [
      "Has suspendido, sigue estudiando\n"
     ]
    }
   ],
   "source": [
    "calificacion = int(input(\"Dime tu calificación\"))\n",
    "if calificacion >= 60:\n",
    "    print (\" Enhorabuena, has aprobado\")\n",
    "else:\n",
    "    print (\"Has suspendido, sigue estudiando\")\n"
   ]
  },
  {
   "cell_type": "markdown",
   "metadata": {},
   "source": [
    "**4**Calcular el máximo entre dos números\n",
    "Descripción: Dados dos números, encuentra el máximo entre ellos."
   ]
  },
  {
   "cell_type": "code",
   "execution_count": 16,
   "metadata": {},
   "outputs": [
    {
     "name": "stdout",
     "output_type": "stream",
     "text": [
      "El número máximo es el primero: 40\n"
     ]
    }
   ],
   "source": [
    "numero1 = int(input(\"Dime un número\"))\n",
    "numero2 = int(input(\"Dime otro número\"))\n",
    "if numero1 > numero2:\n",
    "    print (\"El número máximo es el primero:\", (numero1))\n",
    "else:\n",
    "    print (\"El número máximo es el segundo:\", (numero2))\n",
    "\n"
   ]
  },
  {
   "cell_type": "markdown",
   "metadata": {},
   "source": [
    "**5**Verificar si una letra es una vocal o una consonante\n",
    "Descripción: Dada una letra, verifica si es una vocal o una consonante."
   ]
  },
  {
   "cell_type": "code",
   "execution_count": 23,
   "metadata": {},
   "outputs": [
    {
     "name": "stdout",
     "output_type": "stream",
     "text": [
      "Es una Vocal\n"
     ]
    }
   ],
   "source": [
    "letra = (input(\"Dime una letra\"))\n",
    "if letra.lower() == \"a\" or \"e\" or \"i\" or \"o\" or \"u\":\n",
    "    print (\"Es una Vocal\")\n",
    "else:\n",
    "    print (\"Es una Consonante\")\n",
    "\n"
   ]
  },
  {
   "cell_type": "code",
   "execution_count": 26,
   "metadata": {},
   "outputs": [
    {
     "name": "stdout",
     "output_type": "stream",
     "text": [
      "Es una Consonante\n"
     ]
    }
   ],
   "source": [
    "letra = (input(\"Dime una letra\")).lower()\n",
    "if letra == \"a\" or letra == \"e\" or letra == \"i\" or letra == \"o\" or letra == \"u\":\n",
    "    print (\"Es una Vocal\")\n",
    "else:\n",
    "    print (\"Es una Consonante\")"
   ]
  },
  {
   "cell_type": "markdown",
   "metadata": {},
   "source": [
    "**6** Calcular el descuento en una compra según el monto total\n",
    "Descripción: Dado el monto total de una compra, calcula el descuento aplicado según las siguientes condiciones: si el monto es mayor o igual a $100, aplica un descuento del 10%; de lo contrario, no aplica ningún descuento."
   ]
  },
  {
   "cell_type": "code",
   "execution_count": 29,
   "metadata": {},
   "outputs": [
    {
     "name": "stdout",
     "output_type": "stream",
     "text": [
      "Tu descuento es: 40.0\n"
     ]
    }
   ],
   "source": [
    "importe_compra = int(input(\"Dime el importe de la compra\"))\n",
    "if importe_compra < 100:\n",
    "    print (\"Tu compra no tiene descuento\") \n",
    "else:\n",
    "    print (\"Tu descuento es:\", importe_compra *0.10)   "
   ]
  },
  {
   "cell_type": "markdown",
   "metadata": {},
   "source": [
    "**7**Verificar si un año es bisiesto o no\n",
    "Descripción: Dado un año, verifica si es bisiesto o no (un año es bisiesto si es divisible entre 4, excepto aquellos divisibles entre 100 pero no entre 400)."
   ]
  },
  {
   "cell_type": "code",
   "execution_count": 10,
   "metadata": {},
   "outputs": [
    {
     "name": "stdout",
     "output_type": "stream",
     "text": [
      "El año 2016 es bisiesto\n"
     ]
    }
   ],
   "source": [
    "\n",
    "anyo = int(input(\"Indica el año a comprobar\"))\n",
    "\n",
    "if (anyo % 4 == 0 and anyo % 100 != 0) or (anyo % 400 == 0):\n",
    "    print(f\"El año {anyo} es bisiesto\")\n",
    "\n",
    "else:\n",
    "    print(f\"El año {anyo} no es bisiesto\")"
   ]
  },
  {
   "cell_type": "markdown",
   "metadata": {},
   "source": [
    "**8**Asignar una categoría a una edad\n",
    "Descripción: Dada una edad, asigna una categoría según las siguientes condiciones: si la edad es menor de 18, la categoría es \"Menor de edad\"; si la edad está entre 18 y 64 (incluyendo ambos), la categoría es \"Adulto\"; de lo contrario, la categoría es \"Adulto mayor\"."
   ]
  },
  {
   "cell_type": "code",
   "execution_count": 15,
   "metadata": {},
   "outputs": [
    {
     "name": "stdout",
     "output_type": "stream",
     "text": [
      "66\n"
     ]
    }
   ],
   "source": [
    "edad= int(input(\"ingresa tu edad\"))\n",
    "\n",
    "print(edad)"
   ]
  },
  {
   "cell_type": "code",
   "execution_count": 16,
   "metadata": {},
   "outputs": [
    {
     "name": "stdout",
     "output_type": "stream",
     "text": [
      "eres un adulto mayor\n"
     ]
    }
   ],
   "source": [
    "if edad < 18:\n",
    "    print(\"eres menor de edad\")\n",
    "elif edad >=18 and edad <=65:\n",
    "    print(\"eres adulto\")\n",
    "else:\n",
    "    print(\"eres un adulto mayor\")"
   ]
  },
  {
   "cell_type": "markdown",
   "metadata": {},
   "source": [
    "**9**Verificar si tres números forman un triángulo rectángulo\n",
    "Descripción: Dados tres números, verifica si forman un triángulo rectángulo (si se cumple el teorema de Pitágoras)."
   ]
  },
  {
   "cell_type": "markdown",
   "metadata": {},
   "source": [
    "h2=c12+c22\n",
    "\n",
    "h  ** 2= c1 ** 2 + c2 ** 2\n",
    "\n",
    "h\n",
    "lado_uno\n",
    "lado_dos\n",
    "\n",
    "if hipotenusa ** 2 == lado_uno** 2+ lado_2 ** 2:\n",
    "\"si, tienes un triangulo rectangulo\"\n",
    "else\n",
    "\"no tienes un triangulo rectangulo\""
   ]
  },
  {
   "cell_type": "code",
   "execution_count": 28,
   "metadata": {},
   "outputs": [],
   "source": [
    "lado_uno = float(input())\n",
    "lado_dos = float(input())"
   ]
  },
  {
   "cell_type": "code",
   "execution_count": 29,
   "metadata": {},
   "outputs": [
    {
     "name": "stdout",
     "output_type": "stream",
     "text": [
      "no tienes un triangulo rectangulo\n"
     ]
    }
   ],
   "source": [
    "if hipotenusa == math.sqrt((lado_uno**2) + (lado_dos**2))\n",
    "    print(\"si, tienes un triangulo rectangulo\")\n",
    "else:\n",
    "    print(\"no tienes un triangulo rectangulo\")"
   ]
  },
  {
   "cell_type": "markdown",
   "metadata": {},
   "source": [
    "**10**Asignar una calificación a una puntuación\n",
    "Descripción: Dada una puntuación, asigna una calificación según las siguientes condiciones: si la puntuación es mayor o igual a 90, la calificación es \"A\"; si es mayor o igual a 80, la calificación es \"B\"; si es mayor o igual a 70, la calificación es \"C\"; si es mayor o igual a 60, la calificación es \"D\"; de lo contrario, la calificación es \"F\"."
   ]
  },
  {
   "cell_type": "code",
   "execution_count": 34,
   "metadata": {},
   "outputs": [
    {
     "name": "stdout",
     "output_type": "stream",
     "text": [
      "72\n"
     ]
    }
   ],
   "source": [
    "puntuacion= int(input(\"ingresa puntuacion\"))\n",
    "\n",
    "print(puntuacion)"
   ]
  },
  {
   "cell_type": "code",
   "execution_count": 35,
   "metadata": {},
   "outputs": [
    {
     "name": "stdout",
     "output_type": "stream",
     "text": [
      "tu calificación es C\n"
     ]
    }
   ],
   "source": [
    "if puntuacion >= 90:\n",
    "    print(\"tu calificación es A\")\n",
    "elif puntuacion < 90 and puntuacion >=80:\n",
    "    print(\"tu calificación es B\")\n",
    "elif puntuacion < 80 and puntuacion >=70:\n",
    "    print(\"tu calificación es C\")\n",
    "elif puntuacion < 70 and puntuacion >=60:\n",
    "    print(\"tu calificación es D\")\n",
    "else:\n",
    "    print(\"tu calificación es F\")"
   ]
  },
  {
   "cell_type": "markdown",
   "metadata": {},
   "source": [
    "**11**Calcular el índice de masa corporal (IMC) y categorizarlo\n",
    "Descripción: Dados el peso (en kg) y la altura (en metros) de una persona, calcula su IMC y categorízalo según las siguientes condiciones: si el IMC es menor a 18.5, es \"Bajo peso\"; si está entre 18.5 y 24.9 (inclusive), es \"Peso normal\"; si está entre 25 y 29.9 (inclusive), es \"Sobrepeso\"; de lo contrario, es \"Obesidad\"."
   ]
  },
  {
   "cell_type": "code",
   "execution_count": 38,
   "metadata": {},
   "outputs": [
    {
     "name": "stdout",
     "output_type": "stream",
     "text": [
      "obesidad\n"
     ]
    }
   ],
   "source": [
    "peso = float(input(\"introduce tu peso en kg\"))\n",
    "altura = float(input(\"introduce tu altura en metros\"))\n",
    "\n",
    "IMC = peso/altura**2\n",
    "\n",
    "if IMC<18.5:\n",
    "    print(\"bajo peso\")\n",
    "elif IMC>=18.5 and IMC<=24.9:\n",
    "    print(\"peso normal\")\n",
    "elif IMC>=25 and IMC<=29.9:\n",
    "    print(\"Sobrepeso\")\n",
    "else:\n",
    "    print(\"obesidad\")"
   ]
  },
  {
   "cell_type": "markdown",
   "metadata": {},
   "source": [
    "**12**Calcular el mayor de tres números\n",
    "Descripción: Dados tres números, encuentra el mayor entre ellos."
   ]
  },
  {
   "cell_type": "code",
   "execution_count": 45,
   "metadata": {},
   "outputs": [],
   "source": [
    "num1= int(input())\n",
    "num2= int(input())\n",
    "num3= int(input())"
   ]
  },
  {
   "cell_type": "code",
   "execution_count": 46,
   "metadata": {},
   "outputs": [
    {
     "name": "stdout",
     "output_type": "stream",
     "text": [
      "El mayor es Numero 3\n"
     ]
    }
   ],
   "source": [
    "if num1 > num2 and num1 > num3:\n",
    "    print(\"El mayor es Numero 1\")\n",
    "elif num2 > num1 and num2 > num3:\n",
    "    print(\"El mayor es Numero 2\")\n",
    "elif num3 > num1 and num3 > num2:\n",
    "    print(\"El mayor es Numero 3\")\n",
    "else:\n",
    "   print(\"falta por definir\")"
   ]
  },
  {
   "cell_type": "markdown",
   "metadata": {},
   "source": [
    "**13** BONUS sentencias de control: Verificar la validez de una fecha\n",
    "Descripción: Dados el día, el mes y el año de una fecha, verifica si la fecha es válida."
   ]
  },
  {
   "cell_type": "markdown",
   "metadata": {},
   "source": []
  },
  {
   "cell_type": "markdown",
   "metadata": {},
   "source": []
  }
 ],
 "metadata": {
  "kernelspec": {
   "display_name": "base",
   "language": "python",
   "name": "python3"
  },
  "language_info": {
   "codemirror_mode": {
    "name": "ipython",
    "version": 3
   },
   "file_extension": ".py",
   "mimetype": "text/x-python",
   "name": "python",
   "nbconvert_exporter": "python",
   "pygments_lexer": "ipython3",
   "version": "3.9.7"
  }
 },
 "nbformat": 4,
 "nbformat_minor": 2
}
