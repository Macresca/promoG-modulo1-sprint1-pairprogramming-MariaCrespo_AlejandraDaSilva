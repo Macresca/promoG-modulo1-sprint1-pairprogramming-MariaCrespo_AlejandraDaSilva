{
 "cells": [
  {
   "cell_type": "markdown",
   "metadata": {},
   "source": [
    "**LISTAS**"
   ]
  },
  {
   "cell_type": "markdown",
   "metadata": {},
   "source": [
    "***1.*** **Duplicar elementos de una lista**"
   ]
  },
  {
   "cell_type": "code",
   "execution_count": 2,
   "metadata": {},
   "outputs": [
    {
     "name": "stdout",
     "output_type": "stream",
     "text": [
      "[2, 4, 6, 8]\n"
     ]
    }
   ],
   "source": [
    "lista = [2, 4, 6, 8]\n",
    "print(lista)"
   ]
  },
  {
   "cell_type": "code",
   "execution_count": 3,
   "metadata": {},
   "outputs": [
    {
     "name": "stdout",
     "output_type": "stream",
     "text": [
      "[2, 4, 6, 8, 2, 4, 6, 8]\n"
     ]
    }
   ],
   "source": [
    "lista2 = lista + lista\n",
    "print(lista2)"
   ]
  },
  {
   "cell_type": "markdown",
   "metadata": {},
   "source": [
    "***2.*** **Combinar dos listas**"
   ]
  },
  {
   "cell_type": "code",
   "execution_count": 5,
   "metadata": {},
   "outputs": [],
   "source": [
    "Lista1=[10, 11, 12, 13] "
   ]
  },
  {
   "cell_type": "code",
   "execution_count": 6,
   "metadata": {},
   "outputs": [
    {
     "name": "stdout",
     "output_type": "stream",
     "text": [
      "[2, 4, 6, 8, 10, 11, 12, 13]\n"
     ]
    }
   ],
   "source": [
    "lista.extend(Lista1)\n",
    "\n",
    "print(lista)"
   ]
  },
  {
   "cell_type": "markdown",
   "metadata": {},
   "source": [
    "***3.*** **Calcular la suma de una lista de números**"
   ]
  },
  {
   "cell_type": "code",
   "execution_count": 8,
   "metadata": {},
   "outputs": [
    {
     "name": "stdout",
     "output_type": "stream",
     "text": [
      "[2, 4, 6, 8, 10, 11, 12, 13]\n"
     ]
    },
    {
     "data": {
      "text/plain": [
       "66"
      ]
     },
     "execution_count": 8,
     "metadata": {},
     "output_type": "execute_result"
    }
   ],
   "source": [
    "print(lista)\n",
    "sum(lista)"
   ]
  },
  {
   "cell_type": "markdown",
   "metadata": {},
   "source": [
    "***4.*** **Encontrar el valor máximo en una lista**"
   ]
  },
  {
   "cell_type": "code",
   "execution_count": 10,
   "metadata": {},
   "outputs": [
    {
     "data": {
      "text/plain": [
       "13"
      ]
     },
     "execution_count": 10,
     "metadata": {},
     "output_type": "execute_result"
    }
   ],
   "source": [
    "max(lista)"
   ]
  },
  {
   "cell_type": "markdown",
   "metadata": {},
   "source": [
    "***5.*** **Calcular la longitud de una lista**"
   ]
  },
  {
   "cell_type": "code",
   "execution_count": 16,
   "metadata": {},
   "outputs": [
    {
     "data": {
      "text/plain": [
       "8"
      ]
     },
     "execution_count": 16,
     "metadata": {},
     "output_type": "execute_result"
    }
   ],
   "source": [
    "len(lista)"
   ]
  },
  {
   "cell_type": "markdown",
   "metadata": {},
   "source": [
    "***6.*** **Encontrar el índice de un elemento en una lista (objetivo 10)**"
   ]
  },
  {
   "cell_type": "code",
   "execution_count": 19,
   "metadata": {},
   "outputs": [
    {
     "data": {
      "text/plain": [
       "4"
      ]
     },
     "execution_count": 19,
     "metadata": {},
     "output_type": "execute_result"
    }
   ],
   "source": [
    "lista.index(10)"
   ]
  },
  {
   "cell_type": "markdown",
   "metadata": {},
   "source": [
    "***7.*** **Contar ocurrencias de un elemento en una lista (objetivo 1)**"
   ]
  },
  {
   "cell_type": "code",
   "execution_count": 10,
   "metadata": {},
   "outputs": [
    {
     "data": {
      "text/plain": [
       "3"
      ]
     },
     "execution_count": 10,
     "metadata": {},
     "output_type": "execute_result"
    }
   ],
   "source": [
    "lista3=[1,2,3,4,1,9,8,7,1,4,8]\n",
    "\n",
    "lista3.count(1)"
   ]
  },
  {
   "cell_type": "markdown",
   "metadata": {},
   "source": [
    "***8.*** **Obtener una sublista de una lista**"
   ]
  },
  {
   "cell_type": "code",
   "execution_count": 23,
   "metadata": {},
   "outputs": [],
   "source": [
    "lista4 = lista3[2:5]"
   ]
  },
  {
   "cell_type": "code",
   "execution_count": 24,
   "metadata": {},
   "outputs": [
    {
     "data": {
      "text/plain": [
       "[3, 4, 1]"
      ]
     },
     "execution_count": 24,
     "metadata": {},
     "output_type": "execute_result"
    }
   ],
   "source": [
    "lista4"
   ]
  },
  {
   "cell_type": "markdown",
   "metadata": {},
   "source": [
    "***9.*** **Obtener el último elemento de una lista**"
   ]
  },
  {
   "cell_type": "code",
   "execution_count": 14,
   "metadata": {},
   "outputs": [
    {
     "name": "stdout",
     "output_type": "stream",
     "text": [
      "[1, 2, 3, 4, 1, 9, 8, 7, 1, 4, 8]\n",
      "el último elemento de la lista es: 8\n"
     ]
    }
   ],
   "source": [
    "print(lista3)\n",
    "print( \"el último elemento de la lista es:\",lista3[-1])"
   ]
  },
  {
   "cell_type": "markdown",
   "metadata": {},
   "source": [
    " ***10.*** **Obtener el primer elemento de una lista**"
   ]
  },
  {
   "cell_type": "code",
   "execution_count": 15,
   "metadata": {},
   "outputs": [
    {
     "name": "stdout",
     "output_type": "stream",
     "text": [
      "[1, 2, 3, 4, 1, 9, 8, 7, 1, 4, 8]\n",
      "el primer elemento de la lista es: 1\n"
     ]
    }
   ],
   "source": [
    "print(lista3)\n",
    "print( \"el primer elemento de la lista es:\",lista3[0])"
   ]
  },
  {
   "cell_type": "markdown",
   "metadata": {},
   "source": [
    "***11.*** **Obtener una sublista de una lista**"
   ]
  },
  {
   "cell_type": "code",
   "execution_count": 35,
   "metadata": {},
   "outputs": [
    {
     "data": {
      "text/plain": [
       "[4, 6]"
      ]
     },
     "execution_count": 35,
     "metadata": {},
     "output_type": "execute_result"
    }
   ],
   "source": [
    "lista2[1:3]"
   ]
  },
  {
   "cell_type": "markdown",
   "metadata": {},
   "source": [
    "***12.*** **Reemplazar un elemento en una lista**"
   ]
  },
  {
   "cell_type": "code",
   "execution_count": 17,
   "metadata": {},
   "outputs": [
    {
     "name": "stdout",
     "output_type": "stream",
     "text": [
      "[2, 4, 6, 8, 10, 11, 12, 13]\n",
      "el elemento de la lista a reemplazar es  4\n"
     ]
    }
   ],
   "source": [
    "print(lista)\n",
    "print(\"el elemento de la lista a reemplazar es \",lista[1])"
   ]
  },
  {
   "cell_type": "code",
   "execution_count": 18,
   "metadata": {},
   "outputs": [
    {
     "name": "stdout",
     "output_type": "stream",
     "text": [
      "la nueva lista es: [2, 27, 6, 8, 10, 11, 12, 13]\n"
     ]
    }
   ],
   "source": [
    "lista[1]=27\n",
    "print('la nueva lista es:', lista)"
   ]
  },
  {
   "cell_type": "markdown",
   "metadata": {},
   "source": [
    "***13.*** **Obtener una lista inversa**"
   ]
  },
  {
   "cell_type": "code",
   "execution_count": 20,
   "metadata": {},
   "outputs": [
    {
     "name": "stdout",
     "output_type": "stream",
     "text": [
      "la lista es: [1, 2, 3, 4, 1, 9, 8, 7, 1, 4, 8]\n",
      "la lista inversa es: [8, 4, 1, 7, 8, 9, 1, 4, 3, 2, 1]\n"
     ]
    }
   ],
   "source": [
    "print(\"la lista es:\",lista3)\n",
    "lista3.reverse()\n",
    "print(\"la lista inversa es:\", lista3)\n"
   ]
  },
  {
   "cell_type": "markdown",
   "metadata": {},
   "source": [
    "***14.*** **Ordenar una lista en orden ascendente**"
   ]
  },
  {
   "cell_type": "code",
   "execution_count": 33,
   "metadata": {},
   "outputs": [
    {
     "name": "stdout",
     "output_type": "stream",
     "text": [
      "la lista ordenada en ascendente [1, 1, 1, 2, 3, 4, 4, 7, 8, 8, 9]\n"
     ]
    }
   ],
   "source": [
    "lista3.sort()\n",
    "\n",
    "print(\"la lista ordenada en ascendente\", lista3)"
   ]
  },
  {
   "cell_type": "markdown",
   "metadata": {},
   "source": [
    "**TUPLAS**"
   ]
  },
  {
   "cell_type": "markdown",
   "metadata": {},
   "source": [
    "\n",
    "***1.*** **Acceder al primer elemento de una tupla**"
   ]
  },
  {
   "cell_type": "code",
   "execution_count": 35,
   "metadata": {},
   "outputs": [
    {
     "name": "stdout",
     "output_type": "stream",
     "text": [
      "(2, 4, 6, 8)\n"
     ]
    }
   ],
   "source": [
    "tupla1 = (2,4,6,8)\n",
    "\n",
    "print(tupla1)"
   ]
  },
  {
   "cell_type": "code",
   "execution_count": 36,
   "metadata": {},
   "outputs": [
    {
     "name": "stdout",
     "output_type": "stream",
     "text": [
      "el primer elemento de la tupla es 2\n"
     ]
    }
   ],
   "source": [
    "print(\"el primer elemento de la tupla es\",tupla1[0])"
   ]
  },
  {
   "cell_type": "markdown",
   "metadata": {},
   "source": [
    "***2.*** **Acceder al último elemento de una tupla**"
   ]
  },
  {
   "cell_type": "code",
   "execution_count": 37,
   "metadata": {},
   "outputs": [
    {
     "name": "stdout",
     "output_type": "stream",
     "text": [
      "el último elemento de la tupla es 8\n"
     ]
    }
   ],
   "source": [
    "print( \"el último elemento de la tupla es\",tupla1[-1])"
   ]
  },
  {
   "cell_type": "markdown",
   "metadata": {},
   "source": [
    "***3.*** **Obtener la longitud de una tupla**"
   ]
  },
  {
   "cell_type": "code",
   "execution_count": 38,
   "metadata": {},
   "outputs": [
    {
     "name": "stdout",
     "output_type": "stream",
     "text": [
      "la longitud de la tupla es 4\n"
     ]
    }
   ],
   "source": [
    "print(\"la longitud de la tupla es\",len(tupla1))"
   ]
  },
  {
   "cell_type": "markdown",
   "metadata": {},
   "source": [
    "***4.*** **Concatenar dos tuplas**"
   ]
  },
  {
   "cell_type": "code",
   "execution_count": 44,
   "metadata": {},
   "outputs": [],
   "source": [
    "tupla2=(9,8,7,6)\n",
    "\n",
    "tupla_concat= tupla1+tupla2"
   ]
  },
  {
   "cell_type": "code",
   "execution_count": 45,
   "metadata": {},
   "outputs": [
    {
     "name": "stdout",
     "output_type": "stream",
     "text": [
      "la tupla concatenada es  (2, 4, 6, 8, 9, 8, 7, 6)\n"
     ]
    }
   ],
   "source": [
    "print(\"la tupla concatenada es \",tupla_concat)"
   ]
  },
  {
   "cell_type": "markdown",
   "metadata": {},
   "source": [
    "***5.*** **Encontrar el índice de un elemento en una tupla (objetivo 6)**"
   ]
  },
  {
   "cell_type": "code",
   "execution_count": 48,
   "metadata": {},
   "outputs": [
    {
     "name": "stdout",
     "output_type": "stream",
     "text": [
      "el indice de la tupla para el valor objetivo de 6 es 2\n"
     ]
    }
   ],
   "source": [
    "print(\"el indice de la tupla para el valor objetivo de 6 es\",tupla_concat.index(6))"
   ]
  },
  {
   "cell_type": "markdown",
   "metadata": {},
   "source": [
    "***6.*** **Contar ocurrencias de un elemento en una tupla**"
   ]
  },
  {
   "cell_type": "code",
   "execution_count": 52,
   "metadata": {},
   "outputs": [
    {
     "name": "stdout",
     "output_type": "stream",
     "text": [
      "el valor objetivo 6 aparece 2 veces\n"
     ]
    }
   ],
   "source": [
    "print('el valor objetivo 6 aparece', tupla_concat.count(6),\"veces\")"
   ]
  },
  {
   "cell_type": "markdown",
   "metadata": {},
   "source": [
    "***7.*** **Obtener una subtuple de una tupla**"
   ]
  },
  {
   "cell_type": "code",
   "execution_count": 57,
   "metadata": {},
   "outputs": [
    {
     "name": "stdout",
     "output_type": "stream",
     "text": [
      "(2, 4, 6, 8, 9, 8, 7, 6)\n",
      "el valor de la subtuple desde el indice 1 hasta el 3 sin incluirlo (4, 6)\n"
     ]
    }
   ],
   "source": [
    "print(tupla_concat)\n",
    "print('el valor de la subtuple desde el indice 1 hasta el 3 sin incluirlo',tupla_concat[1:3])"
   ]
  },
  {
   "cell_type": "markdown",
   "metadata": {},
   "source": [
    "***8.*** **Invertir una tupla**"
   ]
  },
  {
   "cell_type": "code",
   "execution_count": 61,
   "metadata": {},
   "outputs": [
    {
     "name": "stdout",
     "output_type": "stream",
     "text": [
      "[2, 4, 6, 8, 9, 8, 7, 6]\n",
      "[6, 7, 8, 9, 8, 6, 4, 2]\n"
     ]
    },
    {
     "data": {
      "text/plain": [
       "list"
      ]
     },
     "execution_count": 61,
     "metadata": {},
     "output_type": "execute_result"
    }
   ],
   "source": [
    "tupla_reverse= list(tupla_concat)\n",
    "print(tupla_reverse)\n",
    "\n",
    "tupla_reverse.reverse()\n",
    "\n",
    "print(tupla_reverse)\n",
    "\n",
    "tuple(tupla_reverse)\n",
    "\n",
    "type(tupla_reverse)"
   ]
  }
 ],
 "metadata": {
  "kernelspec": {
   "display_name": "base",
   "language": "python",
   "name": "python3"
  },
  "language_info": {
   "codemirror_mode": {
    "name": "ipython",
    "version": 3
   },
   "file_extension": ".py",
   "mimetype": "text/x-python",
   "name": "python",
   "nbconvert_exporter": "python",
   "pygments_lexer": "ipython3",
   "version": "3.9.7"
  }
 },
 "nbformat": 4,
 "nbformat_minor": 2
}
