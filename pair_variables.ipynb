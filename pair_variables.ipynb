{
 "cells": [
  {
   "cell_type": "markdown",
   "metadata": {},
   "source": [
    "**1**Cread tres variables numéricas de tipo integer (entero), llamadas de la siguiente forma:\n",
    "            →numero1\n",
    "            →numero2\n",
    "            →numero3\n",
    "    Utilizando los operadores lógicos:\n",
    "        →En vuestro caso, es el numero1 mayor que el numero2\n",
    "        →Es el numero1 menor que el numero2 pero mayor que el numero3\n",
    "        →Es el numero3 igual que el numero2\n",
    "        →Es el numero2 distinto que el numero1"
   ]
  },
  {
   "cell_type": "code",
   "execution_count": 6,
   "metadata": {},
   "outputs": [],
   "source": [
    "numero1 = (50)\n",
    "numero2 = (20)\n",
    "numero3 = (25)"
   ]
  },
  {
   "cell_type": "code",
   "execution_count": 8,
   "metadata": {},
   "outputs": [
    {
     "name": "stdout",
     "output_type": "stream",
     "text": [
      "True\n",
      "False\n",
      "False\n",
      "True\n"
     ]
    }
   ],
   "source": [
    "print(numero1>numero2)\n",
    "print(numero1<numero2 and numero1>numero3)\n",
    "print(numero3 == numero2)\n",
    "print(numero2!=numero1)"
   ]
  },
  {
   "cell_type": "markdown",
   "metadata": {},
   "source": [
    "**2**Cread dos variables numéricas de tipo float (decimal) con dos decimales, llamdas de la siguiente forma:\n",
    "            →altura1\n",
    "            →altura2\n",
    "    Utilizando los operadores matemáticos aprendidos en la lección:\n",
    "        →Cuál es la suma de las dos alturas\n",
    "        →Cuál es la diferencia entre las alturas\n",
    "        →Cuál es el resto de la división de las dos alturas\n",
    "        →Cuál es resultado de la división de las dos alturas, redondead el resultado a un decimal."
   ]
  },
  {
   "cell_type": "code",
   "execution_count": 13,
   "metadata": {},
   "outputs": [
    {
     "name": "stdout",
     "output_type": "stream",
     "text": [
      "la suma de alturas es igual a  3.5\n",
      "la diferencia de alturas es igual a  0.3599999999999999\n",
      "el resto de alturas es igual a  0.3599999999999999\n",
      "el resultado de la división de alturas es igual a  1.2\n"
     ]
    }
   ],
   "source": [
    "altura1=1.57\n",
    "altura2=1.93\n",
    "\n",
    "print(\"la suma de alturas es igual a \", altura1+altura2)\n",
    "print(\"la diferencia de alturas es igual a \", altura2-altura1)\n",
    "print(\"el resto de alturas es igual a \", altura2 % altura1)\n",
    "print(\"el resultado de la división de alturas es igual a \", round(altura2/altura1,1))"
   ]
  },
  {
   "cell_type": "markdown",
   "metadata": {},
   "source": [
    "***3*** Escribid un programa usando la función input() que le pregunte al usuario su nombre y apellidos. Una vez que tengamos el nombre del usuario:\n",
    "        →Printead su nombre y apellidos todo en mayúsculas\n",
    "        →Printead su nombre y apellidos todo en minúsculas\n",
    "        →Printead su nombre y apellidos con la primera letra del nombre y los apellidos en mayúscula y el resto en minúscula.\n",
    "        →Printeas solo la primera letra del nombre en mayúscula."
   ]
  },
  {
   "cell_type": "code",
   "execution_count": 20,
   "metadata": {},
   "outputs": [
    {
     "name": "stdout",
     "output_type": "stream",
     "text": [
      "MARIA CRESPO\n",
      "maria crespo\n",
      "Maria Crespo\n",
      "Maria crespo\n"
     ]
    }
   ],
   "source": [
    "Nombre_apellido= input(\"dime tu nombre y apellido\").lower()\n",
    "\n",
    "print(Nombre_apellido.upper())\n",
    "print(Nombre_apellido)\n",
    "print(Nombre_apellido.title())\n",
    "print(Nombre_apellido.capitalize())\n"
   ]
  },
  {
   "cell_type": "markdown",
   "metadata": {},
   "source": [
    "***4*** Escribid un programa usando la función input() que:\n",
    "        →Le pregunte al usuario por una frase, almacenad este resultado en una variable.\n",
    "        →Le pregunte al usuario por una vocal, almacenad este resultado en una variable.\n",
    "        →Printead la misma frase pero con la vocal introducida en mayúsulas."
   ]
  },
  {
   "cell_type": "code",
   "execution_count": 23,
   "metadata": {},
   "outputs": [
    {
     "name": "stdout",
     "output_type": "stream",
     "text": [
      "Hola, que tal   A\n"
     ]
    }
   ],
   "source": [
    "frase = input(\"dime una frase\")\n",
    "resultado = frase\n",
    "vocal = input(\"dime una vocal\")\n",
    "resultado_vocal= vocal\n",
    "print(resultado, ' ', resultado_vocal.upper())"
   ]
  },
  {
   "cell_type": "markdown",
   "metadata": {},
   "source": [
    "***5*** Escribid un programa usando la función input() que:\n",
    "        →Le pregunte al usuario por la lista de la compra, separando cada elemento por comas.\n",
    "        →Devolved la lista de compra donde veamos cada elemento en una línea.\n",
    "            💡Pista\n",
    "                Para indicar salto de línea usaremos \"\\n\".\n",
    "                Deberéis usar el método join de los strings\n",
    "            📌 Output deseado\n",
    "                     resultado_del_input = [\"peras\", \"manzanas\", \"naranjas\"]\n",
    "                         # output después del ejercicio\n",
    "                            \"peras\"\n",
    "                            \"manzanas\"\n",
    "                            \"naranjas\""
   ]
  },
  {
   "cell_type": "code",
   "execution_count": 31,
   "metadata": {},
   "outputs": [
    {
     "name": "stdout",
     "output_type": "stream",
     "text": [
      "lista_compra.split()\n"
     ]
    }
   ],
   "source": [
    "lista_compra = input(\"dime la lista de la compra\")\n",
    "\n",
    "print(\"lista_compra.split()\")\n"
   ]
  }
 ],
 "metadata": {
  "kernelspec": {
   "display_name": "base",
   "language": "python",
   "name": "python3"
  },
  "language_info": {
   "codemirror_mode": {
    "name": "ipython",
    "version": 3
   },
   "file_extension": ".py",
   "mimetype": "text/x-python",
   "name": "python",
   "nbconvert_exporter": "python",
   "pygments_lexer": "ipython3",
   "version": "3.9.7"
  }
 },
 "nbformat": 4,
 "nbformat_minor": 2
}
